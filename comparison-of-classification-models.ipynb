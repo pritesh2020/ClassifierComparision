{
 "cells": [
  {
   "cell_type": "markdown",
   "metadata": {},
   "source": [
    "# Name- Pritesh Ranjan\n",
    "# Reg - 21MAI0036"
   ]
  },
  {
   "cell_type": "code",
   "execution_count": 5,
   "metadata": {
    "execution": {
     "iopub.execute_input": "2021-06-21T05:41:59.177167Z",
     "iopub.status.busy": "2021-06-21T05:41:59.176013Z",
     "iopub.status.idle": "2021-06-21T05:42:00.381978Z",
     "shell.execute_reply": "2021-06-21T05:42:00.380807Z",
     "shell.execute_reply.started": "2021-06-21T05:39:16.522805Z"
    },
    "papermill": {
     "duration": 1.254754,
     "end_time": "2021-06-21T05:42:00.382182",
     "exception": false,
     "start_time": "2021-06-21T05:41:59.127428",
     "status": "completed"
    },
    "tags": []
   },
   "outputs": [],
   "source": [
    "import numpy as np\n",
    "import pandas as pd\n",
    "from matplotlib import pyplot as plt\n",
    "import seaborn as sns\n",
    "# Preprocessing\n",
    "from sklearn.preprocessing import StandardScaler\n",
    "from sklearn.decomposition import PCA\n",
    "# Train-Test Split\n",
    "from sklearn.model_selection import train_test_split\n",
    "# Models\n",
    "from sklearn.linear_model import LogisticRegression\n",
    "from sklearn.svm import SVC\n",
    "from sklearn.neighbors import KNeighborsClassifier\n",
    "from sklearn.tree import DecisionTreeClassifier\n",
    "from sklearn.ensemble import RandomForestClassifier\n",
    "from sklearn.naive_bayes import GaussianNB\n",
    "# For model evaulation\n",
    "from sklearn.metrics import classification_report, confusion_matrix\n",
    "from sklearn.metrics import roc_curve, auc"
   ]
  },
  {
   "cell_type": "code",
   "execution_count": 13,
   "metadata": {
    "execution": {
     "iopub.execute_input": "2021-06-21T05:42:00.566824Z",
     "iopub.status.busy": "2021-06-21T05:42:00.566021Z",
     "iopub.status.idle": "2021-06-21T05:42:00.609271Z",
     "shell.execute_reply": "2021-06-21T05:42:00.609786Z",
     "shell.execute_reply.started": "2021-06-21T05:39:17.907682Z"
    },
    "papermill": {
     "duration": 0.094565,
     "end_time": "2021-06-21T05:42:00.609957",
     "exception": false,
     "start_time": "2021-06-21T05:42:00.515392",
     "status": "completed"
    },
    "tags": []
   },
   "outputs": [
    {
     "data": {
      "text/html": [
       "<div>\n",
       "<style scoped>\n",
       "    .dataframe tbody tr th:only-of-type {\n",
       "        vertical-align: middle;\n",
       "    }\n",
       "\n",
       "    .dataframe tbody tr th {\n",
       "        vertical-align: top;\n",
       "    }\n",
       "\n",
       "    .dataframe thead th {\n",
       "        text-align: right;\n",
       "    }\n",
       "</style>\n",
       "<table border=\"1\" class=\"dataframe\">\n",
       "  <thead>\n",
       "    <tr style=\"text-align: right;\">\n",
       "      <th></th>\n",
       "      <th>MinTemp</th>\n",
       "      <th>MaxTemp</th>\n",
       "      <th>Rainfall</th>\n",
       "      <th>Evaporation</th>\n",
       "      <th>Sunshine</th>\n",
       "      <th>WindGustDir</th>\n",
       "      <th>WindGustSpeed</th>\n",
       "      <th>WindDir9am</th>\n",
       "      <th>WindDir3pm</th>\n",
       "      <th>WindSpeed9am</th>\n",
       "      <th>...</th>\n",
       "      <th>Humidity3pm</th>\n",
       "      <th>Pressure9am</th>\n",
       "      <th>Pressure3pm</th>\n",
       "      <th>Cloud9am</th>\n",
       "      <th>Cloud3pm</th>\n",
       "      <th>Temp9am</th>\n",
       "      <th>Temp3pm</th>\n",
       "      <th>RainToday</th>\n",
       "      <th>RISK_MM</th>\n",
       "      <th>RainTomorrow</th>\n",
       "    </tr>\n",
       "  </thead>\n",
       "  <tbody>\n",
       "    <tr>\n",
       "      <th>0</th>\n",
       "      <td>8.0</td>\n",
       "      <td>24.3</td>\n",
       "      <td>0.0</td>\n",
       "      <td>3.4</td>\n",
       "      <td>6.3</td>\n",
       "      <td>NW</td>\n",
       "      <td>30</td>\n",
       "      <td>SW</td>\n",
       "      <td>NW</td>\n",
       "      <td>6</td>\n",
       "      <td>...</td>\n",
       "      <td>29</td>\n",
       "      <td>1019.7</td>\n",
       "      <td>1015.0</td>\n",
       "      <td>7</td>\n",
       "      <td>7</td>\n",
       "      <td>14.4</td>\n",
       "      <td>23.6</td>\n",
       "      <td>No</td>\n",
       "      <td>3.6</td>\n",
       "      <td>Yes</td>\n",
       "    </tr>\n",
       "    <tr>\n",
       "      <th>1</th>\n",
       "      <td>14.0</td>\n",
       "      <td>26.9</td>\n",
       "      <td>3.6</td>\n",
       "      <td>4.4</td>\n",
       "      <td>9.7</td>\n",
       "      <td>ENE</td>\n",
       "      <td>39</td>\n",
       "      <td>E</td>\n",
       "      <td>W</td>\n",
       "      <td>4</td>\n",
       "      <td>...</td>\n",
       "      <td>36</td>\n",
       "      <td>1012.4</td>\n",
       "      <td>1008.4</td>\n",
       "      <td>5</td>\n",
       "      <td>3</td>\n",
       "      <td>17.5</td>\n",
       "      <td>25.7</td>\n",
       "      <td>Yes</td>\n",
       "      <td>3.6</td>\n",
       "      <td>Yes</td>\n",
       "    </tr>\n",
       "    <tr>\n",
       "      <th>2</th>\n",
       "      <td>13.7</td>\n",
       "      <td>23.4</td>\n",
       "      <td>3.6</td>\n",
       "      <td>5.8</td>\n",
       "      <td>3.3</td>\n",
       "      <td>NW</td>\n",
       "      <td>85</td>\n",
       "      <td>N</td>\n",
       "      <td>NNE</td>\n",
       "      <td>6</td>\n",
       "      <td>...</td>\n",
       "      <td>69</td>\n",
       "      <td>1009.5</td>\n",
       "      <td>1007.2</td>\n",
       "      <td>8</td>\n",
       "      <td>7</td>\n",
       "      <td>15.4</td>\n",
       "      <td>20.2</td>\n",
       "      <td>Yes</td>\n",
       "      <td>39.8</td>\n",
       "      <td>Yes</td>\n",
       "    </tr>\n",
       "    <tr>\n",
       "      <th>3</th>\n",
       "      <td>13.3</td>\n",
       "      <td>15.5</td>\n",
       "      <td>39.8</td>\n",
       "      <td>7.2</td>\n",
       "      <td>9.1</td>\n",
       "      <td>NW</td>\n",
       "      <td>54</td>\n",
       "      <td>WNW</td>\n",
       "      <td>W</td>\n",
       "      <td>30</td>\n",
       "      <td>...</td>\n",
       "      <td>56</td>\n",
       "      <td>1005.5</td>\n",
       "      <td>1007.0</td>\n",
       "      <td>2</td>\n",
       "      <td>7</td>\n",
       "      <td>13.5</td>\n",
       "      <td>14.1</td>\n",
       "      <td>Yes</td>\n",
       "      <td>2.8</td>\n",
       "      <td>Yes</td>\n",
       "    </tr>\n",
       "    <tr>\n",
       "      <th>4</th>\n",
       "      <td>7.6</td>\n",
       "      <td>16.1</td>\n",
       "      <td>2.8</td>\n",
       "      <td>5.6</td>\n",
       "      <td>10.6</td>\n",
       "      <td>SSE</td>\n",
       "      <td>50</td>\n",
       "      <td>SSE</td>\n",
       "      <td>ESE</td>\n",
       "      <td>20</td>\n",
       "      <td>...</td>\n",
       "      <td>49</td>\n",
       "      <td>1018.3</td>\n",
       "      <td>1018.5</td>\n",
       "      <td>7</td>\n",
       "      <td>7</td>\n",
       "      <td>11.1</td>\n",
       "      <td>15.4</td>\n",
       "      <td>Yes</td>\n",
       "      <td>0.0</td>\n",
       "      <td>No</td>\n",
       "    </tr>\n",
       "  </tbody>\n",
       "</table>\n",
       "<p>5 rows × 22 columns</p>\n",
       "</div>"
      ],
      "text/plain": [
       "   MinTemp  MaxTemp  Rainfall  Evaporation  Sunshine WindGustDir  \\\n",
       "0      8.0     24.3       0.0          3.4       6.3          NW   \n",
       "1     14.0     26.9       3.6          4.4       9.7         ENE   \n",
       "2     13.7     23.4       3.6          5.8       3.3          NW   \n",
       "3     13.3     15.5      39.8          7.2       9.1          NW   \n",
       "4      7.6     16.1       2.8          5.6      10.6         SSE   \n",
       "\n",
       "   WindGustSpeed WindDir9am WindDir3pm  WindSpeed9am  ...  Humidity3pm  \\\n",
       "0             30         SW         NW             6  ...           29   \n",
       "1             39          E          W             4  ...           36   \n",
       "2             85          N        NNE             6  ...           69   \n",
       "3             54        WNW          W            30  ...           56   \n",
       "4             50        SSE        ESE            20  ...           49   \n",
       "\n",
       "   Pressure9am  Pressure3pm  Cloud9am  Cloud3pm  Temp9am  Temp3pm  RainToday  \\\n",
       "0       1019.7       1015.0         7         7     14.4     23.6         No   \n",
       "1       1012.4       1008.4         5         3     17.5     25.7        Yes   \n",
       "2       1009.5       1007.2         8         7     15.4     20.2        Yes   \n",
       "3       1005.5       1007.0         2         7     13.5     14.1        Yes   \n",
       "4       1018.3       1018.5         7         7     11.1     15.4        Yes   \n",
       "\n",
       "   RISK_MM RainTomorrow  \n",
       "0      3.6          Yes  \n",
       "1      3.6          Yes  \n",
       "2     39.8          Yes  \n",
       "3      2.8          Yes  \n",
       "4      0.0           No  \n",
       "\n",
       "[5 rows x 22 columns]"
      ]
     },
     "execution_count": 13,
     "metadata": {},
     "output_type": "execute_result"
    }
   ],
   "source": [
    "df = pd.read_csv(\"weather.csv\")\n",
    "df.head()"
   ]
  },
  {
   "cell_type": "code",
   "execution_count": 14,
   "metadata": {
    "execution": {
     "iopub.execute_input": "2021-06-21T05:42:00.703875Z",
     "iopub.status.busy": "2021-06-21T05:42:00.702926Z",
     "iopub.status.idle": "2021-06-21T05:42:00.724324Z",
     "shell.execute_reply": "2021-06-21T05:42:00.725057Z",
     "shell.execute_reply.started": "2021-06-21T05:39:17.953099Z"
    },
    "papermill": {
     "duration": 0.070026,
     "end_time": "2021-06-21T05:42:00.725283",
     "exception": false,
     "start_time": "2021-06-21T05:42:00.655257",
     "status": "completed"
    },
    "tags": []
   },
   "outputs": [
    {
     "name": "stdout",
     "output_type": "stream",
     "text": [
      "<class 'pandas.core.frame.DataFrame'>\n",
      "RangeIndex: 366 entries, 0 to 365\n",
      "Data columns (total 22 columns):\n",
      " #   Column         Non-Null Count  Dtype  \n",
      "---  ------         --------------  -----  \n",
      " 0   MinTemp        366 non-null    float64\n",
      " 1   MaxTemp        366 non-null    float64\n",
      " 2   Rainfall       366 non-null    float64\n",
      " 3   Evaporation    366 non-null    float64\n",
      " 4   Sunshine       366 non-null    float64\n",
      " 5   WindGustDir    363 non-null    object \n",
      " 6   WindGustSpeed  366 non-null    int64  \n",
      " 7   WindDir9am     335 non-null    object \n",
      " 8   WindDir3pm     365 non-null    object \n",
      " 9   WindSpeed9am   366 non-null    int64  \n",
      " 10  WindSpeed3pm   366 non-null    int64  \n",
      " 11  Humidity9am    366 non-null    int64  \n",
      " 12  Humidity3pm    366 non-null    int64  \n",
      " 13  Pressure9am    366 non-null    float64\n",
      " 14  Pressure3pm    366 non-null    float64\n",
      " 15  Cloud9am       366 non-null    int64  \n",
      " 16  Cloud3pm       366 non-null    int64  \n",
      " 17  Temp9am        366 non-null    float64\n",
      " 18  Temp3pm        366 non-null    float64\n",
      " 19  RainToday      366 non-null    object \n",
      " 20  RISK_MM        366 non-null    float64\n",
      " 21  RainTomorrow   366 non-null    object \n",
      "dtypes: float64(10), int64(7), object(5)\n",
      "memory usage: 63.0+ KB\n"
     ]
    }
   ],
   "source": [
    "df.info()"
   ]
  },
  {
   "cell_type": "markdown",
   "metadata": {
    "papermill": {
     "duration": 0.04594,
     "end_time": "2021-06-21T05:42:00.817369",
     "exception": false,
     "start_time": "2021-06-21T05:42:00.771429",
     "status": "completed"
    },
    "tags": []
   },
   "source": [
    "# Data Preprocessing\n",
    "\n",
    "## Cleaning\n",
    "\n"
   ]
  },
  {
   "cell_type": "code",
   "execution_count": 15,
   "metadata": {},
   "outputs": [
    {
     "data": {
      "text/html": [
       "<div>\n",
       "<style scoped>\n",
       "    .dataframe tbody tr th:only-of-type {\n",
       "        vertical-align: middle;\n",
       "    }\n",
       "\n",
       "    .dataframe tbody tr th {\n",
       "        vertical-align: top;\n",
       "    }\n",
       "\n",
       "    .dataframe thead th {\n",
       "        text-align: right;\n",
       "    }\n",
       "</style>\n",
       "<table border=\"1\" class=\"dataframe\">\n",
       "  <thead>\n",
       "    <tr style=\"text-align: right;\">\n",
       "      <th></th>\n",
       "      <th>MinTemp</th>\n",
       "      <th>MaxTemp</th>\n",
       "      <th>Rainfall</th>\n",
       "      <th>Evaporation</th>\n",
       "      <th>Sunshine</th>\n",
       "      <th>WindGustDir</th>\n",
       "      <th>WindGustSpeed</th>\n",
       "      <th>WindDir9am</th>\n",
       "      <th>WindDir3pm</th>\n",
       "      <th>WindSpeed9am</th>\n",
       "      <th>...</th>\n",
       "      <th>Humidity3pm</th>\n",
       "      <th>Pressure9am</th>\n",
       "      <th>Pressure3pm</th>\n",
       "      <th>Cloud9am</th>\n",
       "      <th>Cloud3pm</th>\n",
       "      <th>Temp9am</th>\n",
       "      <th>Temp3pm</th>\n",
       "      <th>RainToday</th>\n",
       "      <th>RISK_MM</th>\n",
       "      <th>RainTomorrow</th>\n",
       "    </tr>\n",
       "  </thead>\n",
       "  <tbody>\n",
       "    <tr>\n",
       "      <th>0</th>\n",
       "      <td>8.0</td>\n",
       "      <td>24.3</td>\n",
       "      <td>0.0</td>\n",
       "      <td>3.4</td>\n",
       "      <td>6.3</td>\n",
       "      <td>NW</td>\n",
       "      <td>30</td>\n",
       "      <td>SW</td>\n",
       "      <td>NW</td>\n",
       "      <td>6</td>\n",
       "      <td>...</td>\n",
       "      <td>29</td>\n",
       "      <td>1019.7</td>\n",
       "      <td>1015.0</td>\n",
       "      <td>7</td>\n",
       "      <td>7</td>\n",
       "      <td>14.4</td>\n",
       "      <td>23.6</td>\n",
       "      <td>No</td>\n",
       "      <td>3.6</td>\n",
       "      <td>Yes</td>\n",
       "    </tr>\n",
       "    <tr>\n",
       "      <th>1</th>\n",
       "      <td>14.0</td>\n",
       "      <td>26.9</td>\n",
       "      <td>3.6</td>\n",
       "      <td>4.4</td>\n",
       "      <td>9.7</td>\n",
       "      <td>ENE</td>\n",
       "      <td>39</td>\n",
       "      <td>E</td>\n",
       "      <td>W</td>\n",
       "      <td>4</td>\n",
       "      <td>...</td>\n",
       "      <td>36</td>\n",
       "      <td>1012.4</td>\n",
       "      <td>1008.4</td>\n",
       "      <td>5</td>\n",
       "      <td>3</td>\n",
       "      <td>17.5</td>\n",
       "      <td>25.7</td>\n",
       "      <td>Yes</td>\n",
       "      <td>3.6</td>\n",
       "      <td>Yes</td>\n",
       "    </tr>\n",
       "    <tr>\n",
       "      <th>2</th>\n",
       "      <td>13.7</td>\n",
       "      <td>23.4</td>\n",
       "      <td>3.6</td>\n",
       "      <td>5.8</td>\n",
       "      <td>3.3</td>\n",
       "      <td>NW</td>\n",
       "      <td>85</td>\n",
       "      <td>N</td>\n",
       "      <td>NNE</td>\n",
       "      <td>6</td>\n",
       "      <td>...</td>\n",
       "      <td>69</td>\n",
       "      <td>1009.5</td>\n",
       "      <td>1007.2</td>\n",
       "      <td>8</td>\n",
       "      <td>7</td>\n",
       "      <td>15.4</td>\n",
       "      <td>20.2</td>\n",
       "      <td>Yes</td>\n",
       "      <td>39.8</td>\n",
       "      <td>Yes</td>\n",
       "    </tr>\n",
       "    <tr>\n",
       "      <th>3</th>\n",
       "      <td>13.3</td>\n",
       "      <td>15.5</td>\n",
       "      <td>39.8</td>\n",
       "      <td>7.2</td>\n",
       "      <td>9.1</td>\n",
       "      <td>NW</td>\n",
       "      <td>54</td>\n",
       "      <td>WNW</td>\n",
       "      <td>W</td>\n",
       "      <td>30</td>\n",
       "      <td>...</td>\n",
       "      <td>56</td>\n",
       "      <td>1005.5</td>\n",
       "      <td>1007.0</td>\n",
       "      <td>2</td>\n",
       "      <td>7</td>\n",
       "      <td>13.5</td>\n",
       "      <td>14.1</td>\n",
       "      <td>Yes</td>\n",
       "      <td>2.8</td>\n",
       "      <td>Yes</td>\n",
       "    </tr>\n",
       "    <tr>\n",
       "      <th>4</th>\n",
       "      <td>7.6</td>\n",
       "      <td>16.1</td>\n",
       "      <td>2.8</td>\n",
       "      <td>5.6</td>\n",
       "      <td>10.6</td>\n",
       "      <td>SSE</td>\n",
       "      <td>50</td>\n",
       "      <td>SSE</td>\n",
       "      <td>ESE</td>\n",
       "      <td>20</td>\n",
       "      <td>...</td>\n",
       "      <td>49</td>\n",
       "      <td>1018.3</td>\n",
       "      <td>1018.5</td>\n",
       "      <td>7</td>\n",
       "      <td>7</td>\n",
       "      <td>11.1</td>\n",
       "      <td>15.4</td>\n",
       "      <td>Yes</td>\n",
       "      <td>0.0</td>\n",
       "      <td>No</td>\n",
       "    </tr>\n",
       "  </tbody>\n",
       "</table>\n",
       "<p>5 rows × 22 columns</p>\n",
       "</div>"
      ],
      "text/plain": [
       "   MinTemp  MaxTemp  Rainfall  Evaporation  Sunshine WindGustDir  \\\n",
       "0      8.0     24.3       0.0          3.4       6.3          NW   \n",
       "1     14.0     26.9       3.6          4.4       9.7         ENE   \n",
       "2     13.7     23.4       3.6          5.8       3.3          NW   \n",
       "3     13.3     15.5      39.8          7.2       9.1          NW   \n",
       "4      7.6     16.1       2.8          5.6      10.6         SSE   \n",
       "\n",
       "   WindGustSpeed WindDir9am WindDir3pm  WindSpeed9am  ...  Humidity3pm  \\\n",
       "0             30         SW         NW             6  ...           29   \n",
       "1             39          E          W             4  ...           36   \n",
       "2             85          N        NNE             6  ...           69   \n",
       "3             54        WNW          W            30  ...           56   \n",
       "4             50        SSE        ESE            20  ...           49   \n",
       "\n",
       "   Pressure9am  Pressure3pm  Cloud9am  Cloud3pm  Temp9am  Temp3pm  RainToday  \\\n",
       "0       1019.7       1015.0         7         7     14.4     23.6         No   \n",
       "1       1012.4       1008.4         5         3     17.5     25.7        Yes   \n",
       "2       1009.5       1007.2         8         7     15.4     20.2        Yes   \n",
       "3       1005.5       1007.0         2         7     13.5     14.1        Yes   \n",
       "4       1018.3       1018.5         7         7     11.1     15.4        Yes   \n",
       "\n",
       "   RISK_MM RainTomorrow  \n",
       "0      3.6          Yes  \n",
       "1      3.6          Yes  \n",
       "2     39.8          Yes  \n",
       "3      2.8          Yes  \n",
       "4      0.0           No  \n",
       "\n",
       "[5 rows x 22 columns]"
      ]
     },
     "execution_count": 15,
     "metadata": {},
     "output_type": "execute_result"
    }
   ],
   "source": [
    "df.head()"
   ]
  },
  {
   "cell_type": "code",
   "execution_count": 16,
   "metadata": {
    "execution": {
     "iopub.execute_input": "2021-06-21T05:42:00.912477Z",
     "iopub.status.busy": "2021-06-21T05:42:00.911538Z",
     "iopub.status.idle": "2021-06-21T05:42:00.924840Z",
     "shell.execute_reply": "2021-06-21T05:42:00.925375Z",
     "shell.execute_reply.started": "2021-06-21T05:39:17.972625Z"
    },
    "papermill": {
     "duration": 0.062368,
     "end_time": "2021-06-21T05:42:00.925560",
     "exception": false,
     "start_time": "2021-06-21T05:42:00.863192",
     "status": "completed"
    },
    "tags": []
   },
   "outputs": [
    {
     "data": {
      "text/html": [
       "<div>\n",
       "<style scoped>\n",
       "    .dataframe tbody tr th:only-of-type {\n",
       "        vertical-align: middle;\n",
       "    }\n",
       "\n",
       "    .dataframe tbody tr th {\n",
       "        vertical-align: top;\n",
       "    }\n",
       "\n",
       "    .dataframe thead th {\n",
       "        text-align: right;\n",
       "    }\n",
       "</style>\n",
       "<table border=\"1\" class=\"dataframe\">\n",
       "  <thead>\n",
       "    <tr style=\"text-align: right;\">\n",
       "      <th></th>\n",
       "      <th>MinTemp</th>\n",
       "      <th>MaxTemp</th>\n",
       "      <th>Rainfall</th>\n",
       "      <th>Evaporation</th>\n",
       "      <th>Sunshine</th>\n",
       "      <th>WindGustSpeed</th>\n",
       "      <th>WindSpeed9am</th>\n",
       "      <th>WindSpeed3pm</th>\n",
       "      <th>Humidity9am</th>\n",
       "      <th>Humidity3pm</th>\n",
       "      <th>Pressure9am</th>\n",
       "      <th>Pressure3pm</th>\n",
       "      <th>Cloud9am</th>\n",
       "      <th>Cloud3pm</th>\n",
       "      <th>Temp9am</th>\n",
       "      <th>Temp3pm</th>\n",
       "      <th>RainToday</th>\n",
       "      <th>RISK_MM</th>\n",
       "      <th>RainTomorrow</th>\n",
       "    </tr>\n",
       "  </thead>\n",
       "  <tbody>\n",
       "    <tr>\n",
       "      <th>0</th>\n",
       "      <td>8.0</td>\n",
       "      <td>24.3</td>\n",
       "      <td>0.0</td>\n",
       "      <td>3.4</td>\n",
       "      <td>6.3</td>\n",
       "      <td>30</td>\n",
       "      <td>6</td>\n",
       "      <td>20</td>\n",
       "      <td>68</td>\n",
       "      <td>29</td>\n",
       "      <td>1019.7</td>\n",
       "      <td>1015.0</td>\n",
       "      <td>7</td>\n",
       "      <td>7</td>\n",
       "      <td>14.4</td>\n",
       "      <td>23.6</td>\n",
       "      <td>0</td>\n",
       "      <td>3.6</td>\n",
       "      <td>1</td>\n",
       "    </tr>\n",
       "    <tr>\n",
       "      <th>1</th>\n",
       "      <td>14.0</td>\n",
       "      <td>26.9</td>\n",
       "      <td>3.6</td>\n",
       "      <td>4.4</td>\n",
       "      <td>9.7</td>\n",
       "      <td>39</td>\n",
       "      <td>4</td>\n",
       "      <td>17</td>\n",
       "      <td>80</td>\n",
       "      <td>36</td>\n",
       "      <td>1012.4</td>\n",
       "      <td>1008.4</td>\n",
       "      <td>5</td>\n",
       "      <td>3</td>\n",
       "      <td>17.5</td>\n",
       "      <td>25.7</td>\n",
       "      <td>1</td>\n",
       "      <td>3.6</td>\n",
       "      <td>1</td>\n",
       "    </tr>\n",
       "    <tr>\n",
       "      <th>2</th>\n",
       "      <td>13.7</td>\n",
       "      <td>23.4</td>\n",
       "      <td>3.6</td>\n",
       "      <td>5.8</td>\n",
       "      <td>3.3</td>\n",
       "      <td>85</td>\n",
       "      <td>6</td>\n",
       "      <td>6</td>\n",
       "      <td>82</td>\n",
       "      <td>69</td>\n",
       "      <td>1009.5</td>\n",
       "      <td>1007.2</td>\n",
       "      <td>8</td>\n",
       "      <td>7</td>\n",
       "      <td>15.4</td>\n",
       "      <td>20.2</td>\n",
       "      <td>1</td>\n",
       "      <td>39.8</td>\n",
       "      <td>1</td>\n",
       "    </tr>\n",
       "    <tr>\n",
       "      <th>3</th>\n",
       "      <td>13.3</td>\n",
       "      <td>15.5</td>\n",
       "      <td>39.8</td>\n",
       "      <td>7.2</td>\n",
       "      <td>9.1</td>\n",
       "      <td>54</td>\n",
       "      <td>30</td>\n",
       "      <td>24</td>\n",
       "      <td>62</td>\n",
       "      <td>56</td>\n",
       "      <td>1005.5</td>\n",
       "      <td>1007.0</td>\n",
       "      <td>2</td>\n",
       "      <td>7</td>\n",
       "      <td>13.5</td>\n",
       "      <td>14.1</td>\n",
       "      <td>1</td>\n",
       "      <td>2.8</td>\n",
       "      <td>1</td>\n",
       "    </tr>\n",
       "    <tr>\n",
       "      <th>4</th>\n",
       "      <td>7.6</td>\n",
       "      <td>16.1</td>\n",
       "      <td>2.8</td>\n",
       "      <td>5.6</td>\n",
       "      <td>10.6</td>\n",
       "      <td>50</td>\n",
       "      <td>20</td>\n",
       "      <td>28</td>\n",
       "      <td>68</td>\n",
       "      <td>49</td>\n",
       "      <td>1018.3</td>\n",
       "      <td>1018.5</td>\n",
       "      <td>7</td>\n",
       "      <td>7</td>\n",
       "      <td>11.1</td>\n",
       "      <td>15.4</td>\n",
       "      <td>1</td>\n",
       "      <td>0.0</td>\n",
       "      <td>0</td>\n",
       "    </tr>\n",
       "  </tbody>\n",
       "</table>\n",
       "</div>"
      ],
      "text/plain": [
       "   MinTemp  MaxTemp  Rainfall  Evaporation  Sunshine  WindGustSpeed  \\\n",
       "0      8.0     24.3       0.0          3.4       6.3             30   \n",
       "1     14.0     26.9       3.6          4.4       9.7             39   \n",
       "2     13.7     23.4       3.6          5.8       3.3             85   \n",
       "3     13.3     15.5      39.8          7.2       9.1             54   \n",
       "4      7.6     16.1       2.8          5.6      10.6             50   \n",
       "\n",
       "   WindSpeed9am  WindSpeed3pm  Humidity9am  Humidity3pm  Pressure9am  \\\n",
       "0             6            20           68           29       1019.7   \n",
       "1             4            17           80           36       1012.4   \n",
       "2             6             6           82           69       1009.5   \n",
       "3            30            24           62           56       1005.5   \n",
       "4            20            28           68           49       1018.3   \n",
       "\n",
       "   Pressure3pm  Cloud9am  Cloud3pm  Temp9am  Temp3pm  RainToday  RISK_MM  \\\n",
       "0       1015.0         7         7     14.4     23.6          0      3.6   \n",
       "1       1008.4         5         3     17.5     25.7          1      3.6   \n",
       "2       1007.2         8         7     15.4     20.2          1     39.8   \n",
       "3       1007.0         2         7     13.5     14.1          1      2.8   \n",
       "4       1018.5         7         7     11.1     15.4          1      0.0   \n",
       "\n",
       "   RainTomorrow  \n",
       "0             1  \n",
       "1             1  \n",
       "2             1  \n",
       "3             1  \n",
       "4             0  "
      ]
     },
     "execution_count": 16,
     "metadata": {},
     "output_type": "execute_result"
    }
   ],
   "source": [
    "# Class Names\n",
    "class_names = {'Yes':0, 'No':1}\n",
    "# Remove User ID\n",
    "df.drop('WindGustDir', axis = 1, inplace = True)\n",
    "df.drop('WindDir9am', axis = 1, inplace = True)\n",
    "df.drop('WindDir3pm', axis = 1, inplace = True)\n",
    "# Encoding Gender\n",
    "df.replace({'Yes':1, 'No':0}, inplace = True)\n",
    "\n",
    "df.head()"
   ]
  },
  {
   "cell_type": "markdown",
   "metadata": {
    "papermill": {
     "duration": 0.045731,
     "end_time": "2021-06-21T05:42:01.222925",
     "exception": false,
     "start_time": "2021-06-21T05:42:01.177194",
     "status": "completed"
    },
    "tags": []
   },
   "source": [
    "## Train-Test Split\n",
    "\n",
    "We are going to  split the dataset into training set and testing set with a test_size of $20\\%$"
   ]
  },
  {
   "cell_type": "code",
   "execution_count": 22,
   "metadata": {
    "execution": {
     "iopub.execute_input": "2021-06-21T05:42:01.320481Z",
     "iopub.status.busy": "2021-06-21T05:42:01.319576Z",
     "iopub.status.idle": "2021-06-21T05:42:01.330069Z",
     "shell.execute_reply": "2021-06-21T05:42:01.330524Z",
     "shell.execute_reply.started": "2021-06-21T05:39:18.022069Z"
    },
    "papermill": {
     "duration": 0.061674,
     "end_time": "2021-06-21T05:42:01.330698",
     "exception": false,
     "start_time": "2021-06-21T05:42:01.269024",
     "status": "completed"
    },
    "tags": []
   },
   "outputs": [
    {
     "name": "stdout",
     "output_type": "stream",
     "text": [
      "X_train:  (292, 18)\n",
      "y_train:  (292,)\n",
      "X_test: (74, 18)\n",
      "y_test: (74,)\n"
     ]
    }
   ],
   "source": [
    "# variable Separation\n",
    "X = df.iloc[:,:-1]\n",
    "y = df.iloc[:, -1]\n",
    "sc = StandardScaler()\n",
    "X = sc.fit_transform(X)\n",
    "# Train test Split\n",
    "X_train, X_test, y_train, y_test = train_test_split(X, y, test_size = 0.2)\n",
    "# results\n",
    "print(\"X_train: \",np.shape(X_train))\n",
    "print(\"y_train: \",np.shape(y_train))\n",
    "print('X_test:',np.shape(X_test))\n",
    "print('y_test:',np.shape(y_test))"
   ]
  },
  {
   "cell_type": "markdown",
   "metadata": {
    "papermill": {
     "duration": 0.046228,
     "end_time": "2021-06-21T05:42:01.423850",
     "exception": false,
     "start_time": "2021-06-21T05:42:01.377622",
     "status": "completed"
    },
    "tags": []
   },
   "source": [
    "# Dimensionality Reduction\n",
    "\n",
    "Here we want to build a classifier using only 2 features but we have 3. Using __Principal Component Analysis__ we will reduce the 3 features into 2 principal components such that maximum variation is captured by the PCA."
   ]
  },
  {
   "cell_type": "code",
   "execution_count": 23,
   "metadata": {
    "execution": {
     "iopub.execute_input": "2021-06-21T05:42:01.546423Z",
     "iopub.status.busy": "2021-06-21T05:42:01.545691Z",
     "iopub.status.idle": "2021-06-21T05:42:01.553786Z",
     "shell.execute_reply": "2021-06-21T05:42:01.552971Z",
     "shell.execute_reply.started": "2021-06-21T05:39:18.036702Z"
    },
    "papermill": {
     "duration": 0.083345,
     "end_time": "2021-06-21T05:42:01.553932",
     "exception": false,
     "start_time": "2021-06-21T05:42:01.470587",
     "status": "completed"
    },
    "tags": []
   },
   "outputs": [
    {
     "name": "stdout",
     "output_type": "stream",
     "text": [
      "Variance Captured by PCA\n",
      "PC1: 30.1%\n",
      "PC2: 22.3%\n"
     ]
    }
   ],
   "source": [
    "# PCA for dimensionality reduction\n",
    "from sklearn.decomposition import PCA\n",
    "pca = PCA(n_components = 2)\n",
    "X_train = pca.fit_transform(X_train)\n",
    "X_test = pca.transform(X_test)\n",
    "## results of \n",
    "print('Variance Captured by PCA')\n",
    "for i in np.arange(pca.n_components_):\n",
    "    print(\"PC{0:d}: {1:.1f}%\".format(i+1, 100*pca.explained_variance_ratio_[i]))"
   ]
  },
  {
   "cell_type": "code",
   "execution_count": 24,
   "metadata": {
    "execution": {
     "iopub.execute_input": "2021-06-21T05:42:01.752181Z",
     "iopub.status.busy": "2021-06-21T05:42:01.751537Z",
     "iopub.status.idle": "2021-06-21T05:42:01.757205Z",
     "shell.execute_reply": "2021-06-21T05:42:01.756523Z",
     "shell.execute_reply.started": "2021-06-21T05:39:18.067210Z"
    },
    "papermill": {
     "duration": 0.061236,
     "end_time": "2021-06-21T05:42:01.757363",
     "exception": false,
     "start_time": "2021-06-21T05:42:01.696127",
     "status": "completed"
    },
    "tags": []
   },
   "outputs": [],
   "source": [
    "def AUC_ROC(model,X_train, X_test, y_train, y_test) :\n",
    "    # Training Data\n",
    "    y_train_prob = model.predict_proba(X_train)\n",
    "    fpr1, tpr1, thres1 = roc_curve(y_train, y_train_prob[:,1], pos_label = 1)\n",
    "    auc1 = auc(fpr1, tpr1)\n",
    "    # testing Data\n",
    "    y_test_prob = model.predict_proba(X_test)\n",
    "    fpr2, tpr2, thres2 = roc_curve(y_test, y_test_prob[:,1], pos_label = 1)\n",
    "    auc2= auc(fpr2, tpr2)\n",
    "    #plotting\n",
    "    plt.figure(figsize = (8,6))\n",
    "    plt.plot(fpr1, tpr1, label = \"Training: AUC-ROC = {0:.3f}\".format(auc1),\n",
    "             color = \"tab:orange\")\n",
    "    plt.plot(fpr2, tpr2, label = \"Testing: AUC-ROC = {0:.3f}\".format(auc2),\n",
    "             color = 'tab:blue')\n",
    "    plt.plot(fpr1, fpr1, label = \"FPR = TPR\", color = 'black', linewidth=0.5)\n",
    "    plt.xlabel('False Positive Rate (FPR)')\n",
    "    plt.ylabel('True Positive Rate (TPR)')\n",
    "    plt.title(\"ROC Curve for \" + model.__class__.__name__)\n",
    "    plt.legend(loc = \"lower right\")\n",
    "    plt.grid(which = 'both', axis = 'both')\n",
    "    plt.show()\n",
    "    pass"
   ]
  },
  {
   "cell_type": "markdown",
   "metadata": {
    "papermill": {
     "duration": 0.047244,
     "end_time": "2021-06-21T05:42:01.853036",
     "exception": false,
     "start_time": "2021-06-21T05:42:01.805792",
     "status": "completed"
    },
    "tags": []
   },
   "source": [
    "## Confusion Matrix\n",
    "\n",
    "The __Confusion Matrix__ is a $2 \\times 2$ matrix which stores all the number of occurences of each of the four outcomes of the Model. The columns represent the actual class labels and the rows represent predcited class labels thus cell representing the count of that outcome. The diagonal elements are correct predictions whereas off-diagonal elements represent error predctions."
   ]
  },
  {
   "cell_type": "code",
   "execution_count": 25,
   "metadata": {
    "execution": {
     "iopub.execute_input": "2021-06-21T05:42:01.958091Z",
     "iopub.status.busy": "2021-06-21T05:42:01.957351Z",
     "iopub.status.idle": "2021-06-21T05:42:01.960692Z",
     "shell.execute_reply": "2021-06-21T05:42:01.960164Z",
     "shell.execute_reply.started": "2021-06-21T05:39:18.077957Z"
    },
    "papermill": {
     "duration": 0.059325,
     "end_time": "2021-06-21T05:42:01.960862",
     "exception": false,
     "start_time": "2021-06-21T05:42:01.901537",
     "status": "completed"
    },
    "tags": []
   },
   "outputs": [],
   "source": [
    "def cm_Heatmap(y_true, y_pred, class_name = np.unique(y_train)) :\n",
    "    # Confusion Matrix\n",
    "    cm = confusion_matrix(y_true, y_pred)\n",
    "    cm = pd.DataFrame(cm, columns = class_name, index = class_name)\n",
    "    # Plotting\n",
    "    plt.figure(figsize = (8,6))\n",
    "    sns.heatmap(cm, annot = True, annot_kws = {'size': 20}, fmt = 'd', cmap = 'Greens')\n",
    "    plt.xlabel('Observed Class')\n",
    "    plt.ylabel('Predicted Class')\n",
    "    plt.title('Confusion Matrix')\n",
    "    plt.show()\n",
    "    pass"
   ]
  },
  {
   "cell_type": "markdown",
   "metadata": {
    "papermill": {
     "duration": 0.047676,
     "end_time": "2021-06-21T05:42:02.056894",
     "exception": false,
     "start_time": "2021-06-21T05:42:02.009218",
     "status": "completed"
    },
    "tags": []
   },
   "source": [
    "# Logistic Regression\n",
    "\n",
    "The logistic regression is called a regression and not classifier because it primarily predicts the probabilitiy of on observation being positive rather than the actual class. It is a linear binary classifier"
   ]
  },
  {
   "cell_type": "code",
   "execution_count": 26,
   "metadata": {
    "execution": {
     "iopub.execute_input": "2021-06-21T05:42:02.163386Z",
     "iopub.status.busy": "2021-06-21T05:42:02.162662Z",
     "iopub.status.idle": "2021-06-21T05:42:02.172506Z",
     "shell.execute_reply": "2021-06-21T05:42:02.171929Z",
     "shell.execute_reply.started": "2021-06-21T05:39:18.096159Z"
    },
    "papermill": {
     "duration": 0.067234,
     "end_time": "2021-06-21T05:42:02.172679",
     "exception": false,
     "start_time": "2021-06-21T05:42:02.105445",
     "status": "completed"
    },
    "tags": []
   },
   "outputs": [
    {
     "name": "stdout",
     "output_type": "stream",
     "text": [
      "              precision    recall  f1-score   support\n",
      "\n",
      "         Yes       0.89      0.97      0.93       240\n",
      "          No       0.74      0.44      0.55        52\n",
      "\n",
      "    accuracy                           0.87       292\n",
      "   macro avg       0.82      0.70      0.74       292\n",
      "weighted avg       0.86      0.87      0.86       292\n",
      "\n"
     ]
    }
   ],
   "source": [
    "# Training the Model\n",
    "log_reg = LogisticRegression()\n",
    "log_reg.fit(X_train, y_train)\n",
    "# Training Reprto\n",
    "print(classification_report(y_train, log_reg.predict(X_train), target_names = class_names))"
   ]
  },
  {
   "cell_type": "code",
   "execution_count": 51,
   "metadata": {},
   "outputs": [],
   "source": [
    "train_log = log_reg.score(X_train,y_train)\n",
    "test_log = log_reg.score(X_test,y_test)"
   ]
  },
  {
   "cell_type": "markdown",
   "metadata": {
    "papermill": {
     "duration": 0.047527,
     "end_time": "2021-06-21T05:42:02.268565",
     "exception": false,
     "start_time": "2021-06-21T05:42:02.221038",
     "status": "completed"
    },
    "tags": []
   },
   "source": [
    "## 1. Confusion Matrix"
   ]
  },
  {
   "cell_type": "code",
   "execution_count": 27,
   "metadata": {
    "execution": {
     "iopub.execute_input": "2021-06-21T05:42:02.381636Z",
     "iopub.status.busy": "2021-06-21T05:42:02.369442Z",
     "iopub.status.idle": "2021-06-21T05:42:02.637039Z",
     "shell.execute_reply": "2021-06-21T05:42:02.636445Z",
     "shell.execute_reply.started": "2021-06-21T05:39:18.122562Z"
    },
    "papermill": {
     "duration": 0.320862,
     "end_time": "2021-06-21T05:42:02.637201",
     "exception": false,
     "start_time": "2021-06-21T05:42:02.316339",
     "status": "completed"
    },
    "tags": []
   },
   "outputs": [
    {
     "data": {
      "image/png": "[encoded data removed]",
      "text/plain": [
       "<Figure size 576x432 with 2 Axes>"
      ]
     },
     "metadata": {
      "needs_background": "light"
     },
     "output_type": "display_data"
    }
   ],
   "source": [
    "# test data\n",
    "cm_Heatmap(y_test, log_reg.predict(X_test), class_names)"
   ]
  },
  {
   "cell_type": "markdown",
   "metadata": {
    "papermill": {
     "duration": 0.050517,
     "end_time": "2021-06-21T05:42:02.736106",
     "exception": false,
     "start_time": "2021-06-21T05:42:02.685589",
     "status": "completed"
    },
    "tags": []
   },
   "source": [
    "## 2. Classification Report"
   ]
  },
  {
   "cell_type": "code",
   "execution_count": 28,
   "metadata": {
    "execution": {
     "iopub.execute_input": "2021-06-21T05:42:02.842055Z",
     "iopub.status.busy": "2021-06-21T05:42:02.841424Z",
     "iopub.status.idle": "2021-06-21T05:42:02.849491Z",
     "shell.execute_reply": "2021-06-21T05:42:02.850069Z",
     "shell.execute_reply.started": "2021-06-21T05:39:18.354101Z"
    },
    "papermill": {
     "duration": 0.063708,
     "end_time": "2021-06-21T05:42:02.850269",
     "exception": false,
     "start_time": "2021-06-21T05:42:02.786561",
     "status": "completed"
    },
    "tags": []
   },
   "outputs": [
    {
     "name": "stdout",
     "output_type": "stream",
     "text": [
      "              precision    recall  f1-score   support\n",
      "\n",
      "         Yes       0.88      0.95      0.91        60\n",
      "          No       0.67      0.43      0.52        14\n",
      "\n",
      "    accuracy                           0.85        74\n",
      "   macro avg       0.77      0.69      0.72        74\n",
      "weighted avg       0.84      0.85      0.84        74\n",
      "\n"
     ]
    }
   ],
   "source": [
    "# Classification report\n",
    "print(classification_report(y_test, log_reg.predict(X_test), target_names = class_names))"
   ]
  },
  {
   "cell_type": "markdown",
   "metadata": {
    "papermill": {
     "duration": 0.049274,
     "end_time": "2021-06-21T05:42:02.947702",
     "exception": false,
     "start_time": "2021-06-21T05:42:02.898428",
     "status": "completed"
    },
    "tags": []
   },
   "source": [
    "## 3. AUC-ROC Curve"
   ]
  },
  {
   "cell_type": "code",
   "execution_count": 29,
   "metadata": {
    "execution": {
     "iopub.execute_input": "2021-06-21T05:42:03.051689Z",
     "iopub.status.busy": "2021-06-21T05:42:03.051036Z",
     "iopub.status.idle": "2021-06-21T05:42:03.243401Z",
     "shell.execute_reply": "2021-06-21T05:42:03.242793Z",
     "shell.execute_reply.started": "2021-06-21T05:39:18.367897Z"
    },
    "papermill": {
     "duration": 0.24619,
     "end_time": "2021-06-21T05:42:03.243571",
     "exception": false,
     "start_time": "2021-06-21T05:42:02.997381",
     "status": "completed"
    },
    "tags": []
   },
   "outputs": [
    {
     "data": {
      "image/png": "[encoded data removed]",
      "text/plain": [
       "<Figure size 576x432 with 1 Axes>"
      ]
     },
     "metadata": {
      "needs_background": "light"
     },
     "output_type": "display_data"
    }
   ],
   "source": [
    "AUC_ROC(log_reg, X_train, X_test, y_train, y_test)"
   ]
  },
  {
   "cell_type": "markdown",
   "metadata": {
    "papermill": {
     "duration": 0.05075,
     "end_time": "2021-06-21T05:42:03.344836",
     "exception": false,
     "start_time": "2021-06-21T05:42:03.294086",
     "status": "completed"
    },
    "tags": []
   },
   "source": [
    "## 4. Results (on Test data)\n",
    "\n",
    "- __Sensitivity__: $77\\%$\n",
    "- __Specificity__: $98\\%$\n",
    "- __AUC ROC__: $0.973$"
   ]
  },
  {
   "cell_type": "markdown",
   "metadata": {
    "papermill": {
     "duration": 0.050206,
     "end_time": "2021-06-21T05:42:03.446309",
     "exception": false,
     "start_time": "2021-06-21T05:42:03.396103",
     "status": "completed"
    },
    "tags": []
   },
   "source": [
    "# k-Nearest Neighbors\n",
    "\n",
    "It is a non-parametric non-linear classifier. the k-NN model does not need training rather the real computation cost is when we make predictions. Lets say we want to predict the class of a new observation, the model search for the $k$ nearest observations, based on some similarity metric, count the number of observations belonging to each class and label the new observation as the class which has the highest occurence among $k$ observations."
   ]
  },
  {
   "cell_type": "code",
   "execution_count": 30,
   "metadata": {
    "execution": {
     "iopub.execute_input": "2021-06-21T05:42:03.550384Z",
     "iopub.status.busy": "2021-06-21T05:42:03.549349Z",
     "iopub.status.idle": "2021-06-21T05:42:03.574809Z",
     "shell.execute_reply": "2021-06-21T05:42:03.575317Z",
     "shell.execute_reply.started": "2021-06-21T05:39:18.557127Z"
    },
    "papermill": {
     "duration": 0.079248,
     "end_time": "2021-06-21T05:42:03.575529",
     "exception": false,
     "start_time": "2021-06-21T05:42:03.496281",
     "status": "completed"
    },
    "tags": []
   },
   "outputs": [
    {
     "name": "stdout",
     "output_type": "stream",
     "text": [
      "              precision    recall  f1-score   support\n",
      "\n",
      "         Yes       0.91      0.96      0.93       240\n",
      "          No       0.75      0.58      0.65        52\n",
      "\n",
      "    accuracy                           0.89       292\n",
      "   macro avg       0.83      0.77      0.79       292\n",
      "weighted avg       0.88      0.89      0.88       292\n",
      "\n"
     ]
    }
   ],
   "source": [
    "# Training model\n",
    "knn = KNeighborsClassifier(n_neighbors = 5)\n",
    "knn.fit(X_train, y_train)\n",
    "# Training report\n",
    "print(classification_report(y_train, knn.predict(X_train), target_names = class_names))"
   ]
  },
  {
   "cell_type": "code",
   "execution_count": 53,
   "metadata": {},
   "outputs": [],
   "source": [
    "train_knn = knn.score(X_train,y_train)\n",
    "test_knn = knn.score(X_test,y_test)"
   ]
  },
  {
   "cell_type": "markdown",
   "metadata": {
    "papermill": {
     "duration": 0.050817,
     "end_time": "2021-06-21T05:42:03.677088",
     "exception": false,
     "start_time": "2021-06-21T05:42:03.626271",
     "status": "completed"
    },
    "tags": []
   },
   "source": [
    "## 1. Confusion Matrix"
   ]
  },
  {
   "cell_type": "code",
   "execution_count": 31,
   "metadata": {
    "execution": {
     "iopub.execute_input": "2021-06-21T05:42:03.782538Z",
     "iopub.status.busy": "2021-06-21T05:42:03.781586Z",
     "iopub.status.idle": "2021-06-21T05:42:04.154673Z",
     "shell.execute_reply": "2021-06-21T05:42:04.155141Z",
     "shell.execute_reply.started": "2021-06-21T05:39:18.585911Z"
    },
    "papermill": {
     "duration": 0.42757,
     "end_time": "2021-06-21T05:42:04.155350",
     "exception": false,
     "start_time": "2021-06-21T05:42:03.727780",
     "status": "completed"
    },
    "tags": []
   },
   "outputs": [
    {
     "data": {
      "image/png": "[encoded data removed]",
      "text/plain": [
       "<Figure size 576x432 with 2 Axes>"
      ]
     },
     "metadata": {
      "needs_background": "light"
     },
     "output_type": "display_data"
    }
   ],
   "source": [
    "cm_Heatmap(y_test, knn.predict(X_test), class_names)"
   ]
  },
  {
   "cell_type": "markdown",
   "metadata": {
    "papermill": {
     "duration": 0.051285,
     "end_time": "2021-06-21T05:42:04.259734",
     "exception": false,
     "start_time": "2021-06-21T05:42:04.208449",
     "status": "completed"
    },
    "tags": []
   },
   "source": [
    "## 2. Classification Report"
   ]
  },
  {
   "cell_type": "code",
   "execution_count": 32,
   "metadata": {
    "execution": {
     "iopub.execute_input": "2021-06-21T05:42:04.366087Z",
     "iopub.status.busy": "2021-06-21T05:42:04.365370Z",
     "iopub.status.idle": "2021-06-21T05:42:04.378239Z",
     "shell.execute_reply": "2021-06-21T05:42:04.378808Z",
     "shell.execute_reply.started": "2021-06-21T05:39:18.780083Z"
    },
    "papermill": {
     "duration": 0.068017,
     "end_time": "2021-06-21T05:42:04.378999",
     "exception": false,
     "start_time": "2021-06-21T05:42:04.310982",
     "status": "completed"
    },
    "tags": []
   },
   "outputs": [
    {
     "name": "stdout",
     "output_type": "stream",
     "text": [
      "              precision    recall  f1-score   support\n",
      "\n",
      "         Yes       0.88      0.93      0.90        60\n",
      "          No       0.60      0.43      0.50        14\n",
      "\n",
      "    accuracy                           0.84        74\n",
      "   macro avg       0.74      0.68      0.70        74\n",
      "weighted avg       0.82      0.84      0.83        74\n",
      "\n"
     ]
    }
   ],
   "source": [
    "print(classification_report(y_test, knn.predict(X_test), target_names = class_names))"
   ]
  },
  {
   "cell_type": "markdown",
   "metadata": {
    "papermill": {
     "duration": 0.050986,
     "end_time": "2021-06-21T05:42:04.481025",
     "exception": false,
     "start_time": "2021-06-21T05:42:04.430039",
     "status": "completed"
    },
    "tags": []
   },
   "source": [
    "## 3. AUC-ROC Curve"
   ]
  },
  {
   "cell_type": "code",
   "execution_count": 33,
   "metadata": {
    "execution": {
     "iopub.execute_input": "2021-06-21T05:42:04.590024Z",
     "iopub.status.busy": "2021-06-21T05:42:04.589367Z",
     "iopub.status.idle": "2021-06-21T05:42:04.777379Z",
     "shell.execute_reply": "2021-06-21T05:42:04.776820Z",
     "shell.execute_reply.started": "2021-06-21T05:39:18.797930Z"
    },
    "papermill": {
     "duration": 0.244946,
     "end_time": "2021-06-21T05:42:04.777554",
     "exception": false,
     "start_time": "2021-06-21T05:42:04.532608",
     "status": "completed"
    },
    "tags": []
   },
   "outputs": [
    {
     "data": {
      "image/png": "[encoded data removed]",
      "text/plain": [
       "<Figure size 576x432 with 1 Axes>"
      ]
     },
     "metadata": {
      "needs_background": "light"
     },
     "output_type": "display_data"
    }
   ],
   "source": [
    "AUC_ROC(knn, X_train, X_test, y_train, y_test)"
   ]
  },
  {
   "cell_type": "markdown",
   "metadata": {
    "papermill": {
     "duration": 0.051882,
     "end_time": "2021-06-21T05:42:04.882173",
     "exception": false,
     "start_time": "2021-06-21T05:42:04.830291",
     "status": "completed"
    },
    "tags": []
   },
   "source": [
    "## 4. Results (on Test data)\n",
    "\n",
    "- __Sensitivity__: $93\\%$\n",
    "- __Specificity__: $92\\%$\n",
    "- __AUC ROC__: $0.973$"
   ]
  },
  {
   "cell_type": "markdown",
   "metadata": {
    "papermill": {
     "duration": 0.05292,
     "end_time": "2021-06-21T05:42:04.988431",
     "exception": false,
     "start_time": "2021-06-21T05:42:04.935511",
     "status": "completed"
    },
    "tags": []
   },
   "source": [
    "# Decision Tree Classifier\n",
    "\n",
    "The Decision tree Classifier is a tree based classifier. This model splits observations on the basis of their entropy. Every split is done so that entropy is maximized."
   ]
  },
  {
   "cell_type": "code",
   "execution_count": 34,
   "metadata": {
    "execution": {
     "iopub.execute_input": "2021-06-21T05:42:05.100678Z",
     "iopub.status.busy": "2021-06-21T05:42:05.100015Z",
     "iopub.status.idle": "2021-06-21T05:42:05.109797Z",
     "shell.execute_reply": "2021-06-21T05:42:05.110318Z",
     "shell.execute_reply.started": "2021-06-21T05:39:18.991923Z"
    },
    "papermill": {
     "duration": 0.069768,
     "end_time": "2021-06-21T05:42:05.110519",
     "exception": false,
     "start_time": "2021-06-21T05:42:05.040751",
     "status": "completed"
    },
    "tags": []
   },
   "outputs": [
    {
     "name": "stdout",
     "output_type": "stream",
     "text": [
      "              precision    recall  f1-score   support\n",
      "\n",
      "         Yes       0.91      0.98      0.95       240\n",
      "          No       0.88      0.58      0.70        52\n",
      "\n",
      "    accuracy                           0.91       292\n",
      "   macro avg       0.90      0.78      0.82       292\n",
      "weighted avg       0.91      0.91      0.90       292\n",
      "\n"
     ]
    }
   ],
   "source": [
    "# Training model\n",
    "dtc = DecisionTreeClassifier(max_depth = 4)\n",
    "dtc.fit(X_train, y_train)\n",
    "## Trainign report\n",
    "print(classification_report(y_train, dtc.predict(X_train), target_names = class_names))"
   ]
  },
  {
   "cell_type": "code",
   "execution_count": 55,
   "metadata": {},
   "outputs": [],
   "source": [
    "train_dtc = dtc.score(X_train,y_train)\n",
    "test_dtc = dtc.score(X_test,y_test)"
   ]
  },
  {
   "cell_type": "markdown",
   "metadata": {
    "papermill": {
     "duration": 0.052251,
     "end_time": "2021-06-21T05:42:05.215616",
     "exception": false,
     "start_time": "2021-06-21T05:42:05.163365",
     "status": "completed"
    },
    "tags": []
   },
   "source": [
    "## 1. Confusion Matrix"
   ]
  },
  {
   "cell_type": "code",
   "execution_count": 35,
   "metadata": {
    "execution": {
     "iopub.execute_input": "2021-06-21T05:42:05.328924Z",
     "iopub.status.busy": "2021-06-21T05:42:05.328094Z",
     "iopub.status.idle": "2021-06-21T05:42:05.582013Z",
     "shell.execute_reply": "2021-06-21T05:42:05.581349Z",
     "shell.execute_reply.started": "2021-06-21T05:39:19.009771Z"
    },
    "papermill": {
     "duration": 0.313172,
     "end_time": "2021-06-21T05:42:05.582166",
     "exception": false,
     "start_time": "2021-06-21T05:42:05.268994",
     "status": "completed"
    },
    "tags": []
   },
   "outputs": [
    {
     "data": {
      "image/png": "[encoded data removed]",
      "text/plain": [
       "<Figure size 576x432 with 2 Axes>"
      ]
     },
     "metadata": {
      "needs_background": "light"
     },
     "output_type": "display_data"
    }
   ],
   "source": [
    "# test data\n",
    "cm_Heatmap(y_test, dtc.predict(X_test), class_names)"
   ]
  },
  {
   "cell_type": "markdown",
   "metadata": {
    "papermill": {
     "duration": 0.054061,
     "end_time": "2021-06-21T05:42:05.690930",
     "exception": false,
     "start_time": "2021-06-21T05:42:05.636869",
     "status": "completed"
    },
    "tags": []
   },
   "source": [
    "## 2. Classification Report"
   ]
  },
  {
   "cell_type": "code",
   "execution_count": 36,
   "metadata": {
    "execution": {
     "iopub.execute_input": "2021-06-21T05:42:05.805675Z",
     "iopub.status.busy": "2021-06-21T05:42:05.804983Z",
     "iopub.status.idle": "2021-06-21T05:42:05.814744Z",
     "shell.execute_reply": "2021-06-21T05:42:05.813841Z",
     "shell.execute_reply.started": "2021-06-21T05:39:19.233807Z"
    },
    "papermill": {
     "duration": 0.069703,
     "end_time": "2021-06-21T05:42:05.814956",
     "exception": false,
     "start_time": "2021-06-21T05:42:05.745253",
     "status": "completed"
    },
    "tags": []
   },
   "outputs": [
    {
     "name": "stdout",
     "output_type": "stream",
     "text": [
      "              precision    recall  f1-score   support\n",
      "\n",
      "         Yes       0.88      0.95      0.91        60\n",
      "          No       0.67      0.43      0.52        14\n",
      "\n",
      "    accuracy                           0.85        74\n",
      "   macro avg       0.77      0.69      0.72        74\n",
      "weighted avg       0.84      0.85      0.84        74\n",
      "\n"
     ]
    }
   ],
   "source": [
    "# Classification report\n",
    "print(classification_report(y_test, dtc.predict(X_test), target_names = class_names))"
   ]
  },
  {
   "cell_type": "markdown",
   "metadata": {
    "papermill": {
     "duration": 0.053917,
     "end_time": "2021-06-21T05:42:05.924949",
     "exception": false,
     "start_time": "2021-06-21T05:42:05.871032",
     "status": "completed"
    },
    "tags": []
   },
   "source": [
    "## 3. AUC-ROC"
   ]
  },
  {
   "cell_type": "code",
   "execution_count": 37,
   "metadata": {
    "execution": {
     "iopub.execute_input": "2021-06-21T05:42:06.056666Z",
     "iopub.status.busy": "2021-06-21T05:42:06.043940Z",
     "iopub.status.idle": "2021-06-21T05:42:06.239486Z",
     "shell.execute_reply": "2021-06-21T05:42:06.238786Z",
     "shell.execute_reply.started": "2021-06-21T05:39:19.249568Z"
    },
    "papermill": {
     "duration": 0.258457,
     "end_time": "2021-06-21T05:42:06.239652",
     "exception": false,
     "start_time": "2021-06-21T05:42:05.981195",
     "status": "completed"
    },
    "tags": []
   },
   "outputs": [
    {
     "data": {
      "image/png": "[encoded data removed]",
      "text/plain": [
       "<Figure size 576x432 with 1 Axes>"
      ]
     },
     "metadata": {
      "needs_background": "light"
     },
     "output_type": "display_data"
    }
   ],
   "source": [
    "AUC_ROC(dtc, X_train, X_test, y_train, y_test)"
   ]
  },
  {
   "cell_type": "markdown",
   "metadata": {
    "papermill": {
     "duration": 0.055403,
     "end_time": "2021-06-21T05:42:06.350702",
     "exception": false,
     "start_time": "2021-06-21T05:42:06.295299",
     "status": "completed"
    },
    "tags": []
   },
   "source": [
    "## 4. Results (on Test data)\n",
    "\n",
    "- __Sensitivity__: $87\\%$\n",
    "- __Specificity__: $92\\%$\n",
    "- __AUC ROC__: $0.918$"
   ]
  },
  {
   "cell_type": "markdown",
   "metadata": {
    "papermill": {
     "duration": 0.055836,
     "end_time": "2021-06-21T05:42:06.462408",
     "exception": false,
     "start_time": "2021-06-21T05:42:06.406572",
     "status": "completed"
    },
    "tags": []
   },
   "source": [
    "# Random Forest Classifier\n",
    "\n",
    "Random Forest Classifier is an ensemble learning algorithm which means that several simpler algorithms, Decision Tree Classifier, in this case are used to build the model. Generally Random Forest Classifiers are used for larger and complex datasets. Unlike in Decision Tree Classifier, here every tree has to work with a random subset of features rather than working with the complete set of features. This is done to avoid Overfitting."
   ]
  },
  {
   "cell_type": "code",
   "execution_count": 38,
   "metadata": {
    "execution": {
     "iopub.execute_input": "2021-06-21T05:42:06.585272Z",
     "iopub.status.busy": "2021-06-21T05:42:06.580013Z",
     "iopub.status.idle": "2021-06-21T05:42:06.686997Z",
     "shell.execute_reply": "2021-06-21T05:42:06.686436Z",
     "shell.execute_reply.started": "2021-06-21T05:39:19.440143Z"
    },
    "papermill": {
     "duration": 0.168959,
     "end_time": "2021-06-21T05:42:06.687155",
     "exception": false,
     "start_time": "2021-06-21T05:42:06.518196",
     "status": "completed"
    },
    "tags": []
   },
   "outputs": [
    {
     "name": "stdout",
     "output_type": "stream",
     "text": [
      "              precision    recall  f1-score   support\n",
      "\n",
      "         Yes       0.89      0.97      0.93       240\n",
      "          No       0.79      0.44      0.57        52\n",
      "\n",
      "    accuracy                           0.88       292\n",
      "   macro avg       0.84      0.71      0.75       292\n",
      "weighted avg       0.87      0.88      0.87       292\n",
      "\n"
     ]
    }
   ],
   "source": [
    "# Training model\n",
    "rfc = RandomForestClassifier(n_estimators = 50, max_depth = 3)\n",
    "rfc.fit(X_train, y_train)\n",
    "# Training report\n",
    "print(classification_report(y_train, rfc.predict(X_train), target_names = class_names))"
   ]
  },
  {
   "cell_type": "code",
   "execution_count": 56,
   "metadata": {},
   "outputs": [],
   "source": [
    "train_rfc = rfc.score(X_train,y_train)\n",
    "test_rfc = rfc.score(X_test,y_test)"
   ]
  },
  {
   "cell_type": "markdown",
   "metadata": {
    "papermill": {
     "duration": 0.054634,
     "end_time": "2021-06-21T05:42:06.797324",
     "exception": false,
     "start_time": "2021-06-21T05:42:06.742690",
     "status": "completed"
    },
    "tags": []
   },
   "source": [
    "## 1. Confusion Matrix"
   ]
  },
  {
   "cell_type": "code",
   "execution_count": 39,
   "metadata": {
    "execution": {
     "iopub.execute_input": "2021-06-21T05:42:06.916720Z",
     "iopub.status.busy": "2021-06-21T05:42:06.916038Z",
     "iopub.status.idle": "2021-06-21T05:42:07.192733Z",
     "shell.execute_reply": "2021-06-21T05:42:07.191786Z",
     "shell.execute_reply.started": "2021-06-21T05:39:19.550475Z"
    },
    "papermill": {
     "duration": 0.33945,
     "end_time": "2021-06-21T05:42:07.192884",
     "exception": false,
     "start_time": "2021-06-21T05:42:06.853434",
     "status": "completed"
    },
    "tags": []
   },
   "outputs": [
    {
     "data": {
      "image/png": "[encoded data removed]",
      "text/plain": [
       "<Figure size 576x432 with 2 Axes>"
      ]
     },
     "metadata": {
      "needs_background": "light"
     },
     "output_type": "display_data"
    }
   ],
   "source": [
    "cm_Heatmap(y_test, rfc.predict(X_test), class_names)"
   ]
  },
  {
   "cell_type": "markdown",
   "metadata": {
    "papermill": {
     "duration": 0.055786,
     "end_time": "2021-06-21T05:42:07.304494",
     "exception": false,
     "start_time": "2021-06-21T05:42:07.248708",
     "status": "completed"
    },
    "tags": []
   },
   "source": [
    "## 2. Classification Report"
   ]
  },
  {
   "cell_type": "code",
   "execution_count": 40,
   "metadata": {
    "execution": {
     "iopub.execute_input": "2021-06-21T05:42:07.423662Z",
     "iopub.status.busy": "2021-06-21T05:42:07.422890Z",
     "iopub.status.idle": "2021-06-21T05:42:07.437301Z",
     "shell.execute_reply": "2021-06-21T05:42:07.437993Z",
     "shell.execute_reply.started": "2021-06-21T05:39:19.857453Z"
    },
    "papermill": {
     "duration": 0.077646,
     "end_time": "2021-06-21T05:42:07.438234",
     "exception": false,
     "start_time": "2021-06-21T05:42:07.360588",
     "status": "completed"
    },
    "tags": []
   },
   "outputs": [
    {
     "name": "stdout",
     "output_type": "stream",
     "text": [
      "              precision    recall  f1-score   support\n",
      "\n",
      "         Yes       0.85      0.95      0.90        60\n",
      "          No       0.57      0.29      0.38        14\n",
      "\n",
      "    accuracy                           0.82        74\n",
      "   macro avg       0.71      0.62      0.64        74\n",
      "weighted avg       0.80      0.82      0.80        74\n",
      "\n"
     ]
    }
   ],
   "source": [
    "print(classification_report(y_test, rfc.predict(X_test), target_names = class_names))"
   ]
  },
  {
   "cell_type": "markdown",
   "metadata": {
    "papermill": {
     "duration": 0.05596,
     "end_time": "2021-06-21T05:42:07.551568",
     "exception": false,
     "start_time": "2021-06-21T05:42:07.495608",
     "status": "completed"
    },
    "tags": []
   },
   "source": [
    "## 3. AUC-ROC Curve"
   ]
  },
  {
   "cell_type": "code",
   "execution_count": 41,
   "metadata": {
    "execution": {
     "iopub.execute_input": "2021-06-21T05:42:07.671583Z",
     "iopub.status.busy": "2021-06-21T05:42:07.670579Z",
     "iopub.status.idle": "2021-06-21T05:42:07.867622Z",
     "shell.execute_reply": "2021-06-21T05:42:07.867089Z",
     "shell.execute_reply.started": "2021-06-21T05:39:19.879346Z"
    },
    "papermill": {
     "duration": 0.259616,
     "end_time": "2021-06-21T05:42:07.867770",
     "exception": false,
     "start_time": "2021-06-21T05:42:07.608154",
     "status": "completed"
    },
    "tags": []
   },
   "outputs": [
    {
     "data": {
      "image/png": "[encoded data removed]",
      "text/plain": [
       "<Figure size 576x432 with 1 Axes>"
      ]
     },
     "metadata": {
      "needs_background": "light"
     },
     "output_type": "display_data"
    }
   ],
   "source": [
    "AUC_ROC(rfc, X_train, X_test, y_train, y_test)"
   ]
  },
  {
   "cell_type": "markdown",
   "metadata": {
    "papermill": {
     "duration": 0.059197,
     "end_time": "2021-06-21T05:42:07.985287",
     "exception": false,
     "start_time": "2021-06-21T05:42:07.926090",
     "status": "completed"
    },
    "tags": []
   },
   "source": [
    "## 4. Results (on Test data)\n",
    "\n",
    "- __Sensitivity__: $97\\%$\n",
    "- __Specificity__: $92\\%$\n",
    "- __AUC ROC__: $0.972$"
   ]
  },
  {
   "cell_type": "markdown",
   "metadata": {
    "papermill": {
     "duration": 0.057841,
     "end_time": "2021-06-21T05:42:08.101169",
     "exception": false,
     "start_time": "2021-06-21T05:42:08.043328",
     "status": "completed"
    },
    "tags": []
   },
   "source": [
    "# Naive Bayes Classifier\n",
    "\n",
    "This is a Bayesian approach of classification. At we we have to assign certain probabilities to individual classes called the __prior probabilities__ and using the training data, we have to update these probabilities to obtain the __posterior probability__ distribution. Using this probability distribution we can classify a new observation."
   ]
  },
  {
   "cell_type": "code",
   "execution_count": 42,
   "metadata": {
    "execution": {
     "iopub.execute_input": "2021-06-21T05:42:08.224023Z",
     "iopub.status.busy": "2021-06-21T05:42:08.223324Z",
     "iopub.status.idle": "2021-06-21T05:42:08.232031Z",
     "shell.execute_reply": "2021-06-21T05:42:08.233059Z",
     "shell.execute_reply.started": "2021-06-21T05:39:20.079376Z"
    },
    "papermill": {
     "duration": 0.074262,
     "end_time": "2021-06-21T05:42:08.233323",
     "exception": false,
     "start_time": "2021-06-21T05:42:08.159061",
     "status": "completed"
    },
    "tags": []
   },
   "outputs": [
    {
     "name": "stdout",
     "output_type": "stream",
     "text": [
      "              precision    recall  f1-score   support\n",
      "\n",
      "         Yes       0.94      0.84      0.89       240\n",
      "          No       0.51      0.75      0.60        52\n",
      "\n",
      "    accuracy                           0.83       292\n",
      "   macro avg       0.72      0.80      0.75       292\n",
      "weighted avg       0.86      0.83      0.84       292\n",
      "\n"
     ]
    }
   ],
   "source": [
    "# Training model\n",
    "nbc = GaussianNB(priors = np.array([0.5, 0.5]))\n",
    "nbc.fit(X_train, y_train)\n",
    "# Training report\n",
    "print(classification_report(y_train, nbc.predict(X_train), target_names = class_names))"
   ]
  },
  {
   "cell_type": "code",
   "execution_count": 57,
   "metadata": {},
   "outputs": [],
   "source": [
    "train_nbc = nbc.score(X_train,y_train)\n",
    "test_nbc = nbc.score(X_test,y_test)"
   ]
  },
  {
   "cell_type": "markdown",
   "metadata": {
    "papermill": {
     "duration": 0.05864,
     "end_time": "2021-06-21T05:42:08.352506",
     "exception": false,
     "start_time": "2021-06-21T05:42:08.293866",
     "status": "completed"
    },
    "tags": []
   },
   "source": [
    "## 1. Confusion Matrix"
   ]
  },
  {
   "cell_type": "code",
   "execution_count": 43,
   "metadata": {
    "execution": {
     "iopub.execute_input": "2021-06-21T05:42:08.501621Z",
     "iopub.status.busy": "2021-06-21T05:42:08.500879Z",
     "iopub.status.idle": "2021-06-21T05:42:08.744788Z",
     "shell.execute_reply": "2021-06-21T05:42:08.744069Z",
     "shell.execute_reply.started": "2021-06-21T05:39:20.093790Z"
    },
    "papermill": {
     "duration": 0.332709,
     "end_time": "2021-06-21T05:42:08.744966",
     "exception": false,
     "start_time": "2021-06-21T05:42:08.412257",
     "status": "completed"
    },
    "tags": []
   },
   "outputs": [
    {
     "data": {
      "image/png": "[encoded data removed]",
      "text/plain": [
       "<Figure size 576x432 with 2 Axes>"
      ]
     },
     "metadata": {
      "needs_background": "light"
     },
     "output_type": "display_data"
    }
   ],
   "source": [
    "cm_Heatmap(y_test, nbc.predict(X_test), class_names)"
   ]
  },
  {
   "cell_type": "markdown",
   "metadata": {
    "papermill": {
     "duration": 0.059977,
     "end_time": "2021-06-21T05:42:08.865940",
     "exception": false,
     "start_time": "2021-06-21T05:42:08.805963",
     "status": "completed"
    },
    "tags": []
   },
   "source": [
    "## 2. Classification Report"
   ]
  },
  {
   "cell_type": "code",
   "execution_count": 44,
   "metadata": {
    "execution": {
     "iopub.execute_input": "2021-06-21T05:42:08.994746Z",
     "iopub.status.busy": "2021-06-21T05:42:08.993209Z",
     "iopub.status.idle": "2021-06-21T05:42:09.002506Z",
     "shell.execute_reply": "2021-06-21T05:42:09.002995Z",
     "shell.execute_reply.started": "2021-06-21T05:39:20.287309Z"
    },
    "papermill": {
     "duration": 0.076751,
     "end_time": "2021-06-21T05:42:09.003224",
     "exception": false,
     "start_time": "2021-06-21T05:42:08.926473",
     "status": "completed"
    },
    "tags": []
   },
   "outputs": [
    {
     "name": "stdout",
     "output_type": "stream",
     "text": [
      "              precision    recall  f1-score   support\n",
      "\n",
      "         Yes       0.91      0.82      0.86        60\n",
      "          No       0.45      0.64      0.53        14\n",
      "\n",
      "    accuracy                           0.78        74\n",
      "   macro avg       0.68      0.73      0.69        74\n",
      "weighted avg       0.82      0.78      0.80        74\n",
      "\n"
     ]
    }
   ],
   "source": [
    "print(classification_report(y_test, nbc.predict(X_test), target_names = class_names))"
   ]
  },
  {
   "cell_type": "markdown",
   "metadata": {
    "papermill": {
     "duration": 0.060073,
     "end_time": "2021-06-21T05:42:09.123071",
     "exception": false,
     "start_time": "2021-06-21T05:42:09.062998",
     "status": "completed"
    },
    "tags": []
   },
   "source": [
    "## 3. AUC-ROC Curve"
   ]
  },
  {
   "cell_type": "code",
   "execution_count": 45,
   "metadata": {
    "execution": {
     "iopub.execute_input": "2021-06-21T05:42:09.248232Z",
     "iopub.status.busy": "2021-06-21T05:42:09.247409Z",
     "iopub.status.idle": "2021-06-21T05:42:09.432582Z",
     "shell.execute_reply": "2021-06-21T05:42:09.431947Z",
     "shell.execute_reply.started": "2021-06-21T05:39:20.301106Z"
    },
    "papermill": {
     "duration": 0.25025,
     "end_time": "2021-06-21T05:42:09.432733",
     "exception": false,
     "start_time": "2021-06-21T05:42:09.182483",
     "status": "completed"
    },
    "tags": []
   },
   "outputs": [
    {
     "data": {
      "image/png": "[encoded data removed]",
      "text/plain": [
       "<Figure size 576x432 with 1 Axes>"
      ]
     },
     "metadata": {
      "needs_background": "light"
     },
     "output_type": "display_data"
    }
   ],
   "source": [
    "AUC_ROC(nbc, X_train, X_test, y_train, y_test)"
   ]
  },
  {
   "cell_type": "markdown",
   "metadata": {
    "papermill": {
     "duration": 0.060377,
     "end_time": "2021-06-21T05:42:09.555528",
     "exception": false,
     "start_time": "2021-06-21T05:42:09.495151",
     "status": "completed"
    },
    "tags": []
   },
   "source": [
    "## 4. Results (on Test data)\n",
    "\n",
    "- __Sensitivity__: $100\\%$\n",
    "- __Specificity__: $90\\%$\n",
    "- __AUC ROC__: $0.985$"
   ]
  },
  {
   "cell_type": "markdown",
   "metadata": {
    "papermill": {
     "duration": 0.060264,
     "end_time": "2021-06-21T05:42:09.676785",
     "exception": false,
     "start_time": "2021-06-21T05:42:09.616521",
     "status": "completed"
    },
    "tags": []
   },
   "source": [
    "# Support Vector Machines\n",
    "\n",
    "SVMs are based on the idea of finding a hyperplane which separates the data. Hyperplane is a general term for a __line__ in 2-D space or a __plane__ in 3-D space"
   ]
  },
  {
   "cell_type": "code",
   "execution_count": 46,
   "metadata": {
    "execution": {
     "iopub.execute_input": "2021-06-21T05:42:09.805780Z",
     "iopub.status.busy": "2021-06-21T05:42:09.805042Z",
     "iopub.status.idle": "2021-06-21T05:42:09.829486Z",
     "shell.execute_reply": "2021-06-21T05:42:09.828668Z",
     "shell.execute_reply.started": "2021-06-21T05:39:20.492778Z"
    },
    "papermill": {
     "duration": 0.09244,
     "end_time": "2021-06-21T05:42:09.829701",
     "exception": false,
     "start_time": "2021-06-21T05:42:09.737261",
     "status": "completed"
    },
    "tags": []
   },
   "outputs": [
    {
     "name": "stdout",
     "output_type": "stream",
     "text": [
      "              precision    recall  f1-score   support\n",
      "\n",
      "         Yes       0.87      0.97      0.92       240\n",
      "          No       0.72      0.35      0.47        52\n",
      "\n",
      "    accuracy                           0.86       292\n",
      "   macro avg       0.80      0.66      0.69       292\n",
      "weighted avg       0.85      0.86      0.84       292\n",
      "\n"
     ]
    }
   ],
   "source": [
    "svmc = SVC(probability = True)\n",
    "# Training the Model\n",
    "svmc.fit(X_train, y_train)\n",
    "# Training Report\n",
    "print(classification_report(y_train, svmc.predict(X_train), target_names = class_names))"
   ]
  },
  {
   "cell_type": "code",
   "execution_count": 59,
   "metadata": {},
   "outputs": [],
   "source": [
    "train_svmc = svmc.score(X_train,y_train)\n",
    "test_svmc = svmc.score(X_test,y_test)"
   ]
  },
  {
   "cell_type": "markdown",
   "metadata": {
    "papermill": {
     "duration": 0.061107,
     "end_time": "2021-06-21T05:42:09.952543",
     "exception": false,
     "start_time": "2021-06-21T05:42:09.891436",
     "status": "completed"
    },
    "tags": []
   },
   "source": [
    "## 1. Confusion Matrix"
   ]
  },
  {
   "cell_type": "code",
   "execution_count": 47,
   "metadata": {
    "execution": {
     "iopub.execute_input": "2021-06-21T05:42:10.082555Z",
     "iopub.status.busy": "2021-06-21T05:42:10.081890Z",
     "iopub.status.idle": "2021-06-21T05:42:10.347068Z",
     "shell.execute_reply": "2021-06-21T05:42:10.347533Z",
     "shell.execute_reply.started": "2021-06-21T05:39:20.517953Z"
    },
    "papermill": {
     "duration": 0.332221,
     "end_time": "2021-06-21T05:42:10.347721",
     "exception": false,
     "start_time": "2021-06-21T05:42:10.015500",
     "status": "completed"
    },
    "tags": []
   },
   "outputs": [
    {
     "data": {
      "image/png": "[encoded data removed]",
      "text/plain": [
       "<Figure size 576x432 with 2 Axes>"
      ]
     },
     "metadata": {
      "needs_background": "light"
     },
     "output_type": "display_data"
    }
   ],
   "source": [
    "cm_Heatmap(y_test, svmc.predict(X_test), class_names)"
   ]
  },
  {
   "cell_type": "markdown",
   "metadata": {
    "papermill": {
     "duration": 0.061045,
     "end_time": "2021-06-21T05:42:10.470149",
     "exception": false,
     "start_time": "2021-06-21T05:42:10.409104",
     "status": "completed"
    },
    "tags": []
   },
   "source": [
    "## 2. Classification Report"
   ]
  },
  {
   "cell_type": "code",
   "execution_count": 48,
   "metadata": {
    "execution": {
     "iopub.execute_input": "2021-06-21T05:42:10.595857Z",
     "iopub.status.busy": "2021-06-21T05:42:10.595218Z",
     "iopub.status.idle": "2021-06-21T05:42:10.606990Z",
     "shell.execute_reply": "2021-06-21T05:42:10.606328Z",
     "shell.execute_reply.started": "2021-06-21T05:39:20.707248Z"
    },
    "papermill": {
     "duration": 0.075629,
     "end_time": "2021-06-21T05:42:10.607127",
     "exception": false,
     "start_time": "2021-06-21T05:42:10.531498",
     "status": "completed"
    },
    "tags": []
   },
   "outputs": [
    {
     "name": "stdout",
     "output_type": "stream",
     "text": [
      "              precision    recall  f1-score   support\n",
      "\n",
      "         Yes       0.85      0.97      0.91        60\n",
      "          No       0.67      0.29      0.40        14\n",
      "\n",
      "    accuracy                           0.84        74\n",
      "   macro avg       0.76      0.63      0.65        74\n",
      "weighted avg       0.82      0.84      0.81        74\n",
      "\n"
     ]
    }
   ],
   "source": [
    "print(classification_report(y_test, svmc.predict(X_test), target_names = class_names))"
   ]
  },
  {
   "cell_type": "markdown",
   "metadata": {
    "papermill": {
     "duration": 0.061721,
     "end_time": "2021-06-21T05:42:10.730519",
     "exception": false,
     "start_time": "2021-06-21T05:42:10.668798",
     "status": "completed"
    },
    "tags": []
   },
   "source": [
    "## 3. AUC-ROC Curve"
   ]
  },
  {
   "cell_type": "code",
   "execution_count": 49,
   "metadata": {
    "execution": {
     "iopub.execute_input": "2021-06-21T05:42:10.882557Z",
     "iopub.status.busy": "2021-06-21T05:42:10.881677Z",
     "iopub.status.idle": "2021-06-21T05:42:11.070237Z",
     "shell.execute_reply": "2021-06-21T05:42:11.069598Z",
     "shell.execute_reply.started": "2021-06-21T05:39:20.721227Z"
    },
    "papermill": {
     "duration": 0.277145,
     "end_time": "2021-06-21T05:42:11.070373",
     "exception": false,
     "start_time": "2021-06-21T05:42:10.793228",
     "status": "completed"
    },
    "tags": []
   },
   "outputs": [
    {
     "data": {
      "image/png": "[encoded data removed]",
      "text/plain": [
       "<Figure size 576x432 with 1 Axes>"
      ]
     },
     "metadata": {
      "needs_background": "light"
     },
     "output_type": "display_data"
    }
   ],
   "source": [
    "AUC_ROC(svmc, X_train, X_test, y_train, y_test)"
   ]
  },
  {
   "cell_type": "markdown",
   "metadata": {
    "papermill": {
     "duration": 0.062515,
     "end_time": "2021-06-21T05:42:11.196125",
     "exception": false,
     "start_time": "2021-06-21T05:42:11.133610",
     "status": "completed"
    },
    "tags": []
   },
   "source": [
    "## 4. Results (on Test data)\n",
    "\n",
    "- __Sensitivity__: $100\\%$\n",
    "- __Specificity__: $90\\%$\n",
    "- __AUC ROC__: $0.971$"
   ]
  },
  {
   "cell_type": "code",
   "execution_count": 62,
   "metadata": {
    "papermill": {
     "duration": 0.062331,
     "end_time": "2021-06-21T05:42:11.448088",
     "exception": false,
     "start_time": "2021-06-21T05:42:11.385757",
     "status": "completed"
    },
    "tags": []
   },
   "outputs": [
    {
     "data": {
      "text/html": [
       "<div>\n",
       "<style scoped>\n",
       "    .dataframe tbody tr th:only-of-type {\n",
       "        vertical-align: middle;\n",
       "    }\n",
       "\n",
       "    .dataframe tbody tr th {\n",
       "        vertical-align: top;\n",
       "    }\n",
       "\n",
       "    .dataframe thead th {\n",
       "        text-align: right;\n",
       "    }\n",
       "</style>\n",
       "<table border=\"1\" class=\"dataframe\">\n",
       "  <thead>\n",
       "    <tr style=\"text-align: right;\">\n",
       "      <th></th>\n",
       "      <th>Train Accuracy</th>\n",
       "      <th>Test Accuracy</th>\n",
       "    </tr>\n",
       "  </thead>\n",
       "  <tbody>\n",
       "    <tr>\n",
       "      <th>Logistic Regression</th>\n",
       "      <td>0.873288</td>\n",
       "      <td>0.851351</td>\n",
       "    </tr>\n",
       "    <tr>\n",
       "      <th>Knn</th>\n",
       "      <td>0.890411</td>\n",
       "      <td>0.837838</td>\n",
       "    </tr>\n",
       "    <tr>\n",
       "      <th>Decision Tree</th>\n",
       "      <td>0.910959</td>\n",
       "      <td>0.851351</td>\n",
       "    </tr>\n",
       "    <tr>\n",
       "      <th>Random Forest</th>\n",
       "      <td>0.880137</td>\n",
       "      <td>0.824324</td>\n",
       "    </tr>\n",
       "    <tr>\n",
       "      <th>Naive Bayes</th>\n",
       "      <td>0.825342</td>\n",
       "      <td>0.783784</td>\n",
       "    </tr>\n",
       "    <tr>\n",
       "      <th>Support Vector Machine</th>\n",
       "      <td>0.859589</td>\n",
       "      <td>0.837838</td>\n",
       "    </tr>\n",
       "  </tbody>\n",
       "</table>\n",
       "</div>"
      ],
      "text/plain": [
       "                        Train Accuracy  Test Accuracy\n",
       "Logistic Regression           0.873288       0.851351\n",
       "Knn                           0.890411       0.837838\n",
       "Decision Tree                 0.910959       0.851351\n",
       "Random Forest                 0.880137       0.824324\n",
       "Naive Bayes                   0.825342       0.783784\n",
       "Support Vector Machine        0.859589       0.837838"
      ]
     },
     "execution_count": 62,
     "metadata": {},
     "output_type": "execute_result"
    }
   ],
   "source": [
    "train_accuracy=[train_log,train_knn,train_dtc,train_rfc,train_nbc,train_svmc]\n",
    "test_accuracy=[test_log,test_knn,test_dtc,test_rfc,test_nbc,test_svmc]\n",
    "\n",
    "col={'Train Accuracy':train_accuracy,'Test Accuracy':test_accuracy}\n",
    "models=['Logistic Regression','Knn','Decision Tree','Random Forest','Naive Bayes','Support Vector Machine']\n",
    "d=pd.DataFrame(data=col,index=models)\n",
    "d"
   ]
  },
  {
   "cell_type": "code",
   "execution_count": 65,
   "metadata": {},
   "outputs": [
    {
     "data": {
      "image/png": "[encoded data removed]",
      "text/plain": [
       "<Figure size 432x288 with 1 Axes>"
      ]
     },
     "metadata": {
      "needs_background": "light"
     },
     "output_type": "display_data"
    }
   ],
   "source": [
    "d.plot(kind='bar')\n",
    "plt.show()"
   ]
  },
  {
   "cell_type": "markdown",
   "metadata": {},
   "source": [
    "# Conclusion\n",
    "\n",
    "| Model Name               | Sensitivity | Specificity | AUC ROC |\n",
    "| ------------------------ | ----------- | ----------- | ------- |\n",
    "| Logistic Regression      | $77\\%$      | $98\\%$      | $0.973$ |\n",
    "| k-Nearest Neighbors      | $93\\%$      | $92\\%$      | $0.973$ |\n",
    "| Decision Tree Classifier | $87\\%$      | $92\\%$      | $0.918$ |\n",
    "| Random Forest Classifier | $97\\%$      | $92\\%$      | $0.972$ |\n",
    "| Naive Bayes              | $100\\%$     | $90\\%$      | $0.985$ |\n",
    "| Support Vector Machines  | $100\\%$     | $90\\%$      | $0.971$ |\n",
    "\n",
    "- It seems that Naive Bayes classifier is the optimum model for this dataset, with the highest AUC ROC value.\n",
    "- When detection of Not-Purchased is more important, the Logistic Regression is the best, with the highest Specificity."
   ]
  },
  {
   "cell_type": "code",
   "execution_count": null,
   "metadata": {},
   "outputs": [],
   "source": []
  }
 ],
 "metadata": {
  "kernelspec": {
   "display_name": "Python 3",
   "language": "python",
   "name": "python3"
  },
  "language_info": {
   "codemirror_mode": {
    "name": "ipython",
    "version": 3
   },
   "file_extension": ".py",
   "mimetype": "text/x-python",
   "name": "python",
   "nbconvert_exporter": "python",
   "pygments_lexer": "ipython3",
   "version": "3.8.5"
  },
  "papermill": {
   "default_parameters": {},
   "duration": 21.946183,
   "end_time": "2021-06-21T05:42:12.973872",
   "environment_variables": {},
   "exception": null,
   "input_path": "__notebook__.ipynb",
   "output_path": "__notebook__.ipynb",
   "parameters": {},
   "start_time": "2021-06-21T05:41:51.027689",
   "version": "2.3.3"
  }
 },
 "nbformat": 4,
 "nbformat_minor": 5
}
